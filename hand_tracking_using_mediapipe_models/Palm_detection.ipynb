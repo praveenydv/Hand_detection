{
 "cells": [
  {
   "cell_type": "code",
   "execution_count": 9,
   "metadata": {},
   "outputs": [],
   "source": [
    "import cv2\n",
    "import argparse\n",
    "from src.hand_tracker import HandTracker\n",
    "\n"
   ]
  },
  {
   "cell_type": "code",
   "execution_count": 10,
   "metadata": {},
   "outputs": [],
   "source": [
    "\n",
    "# # USAGE: python run.py --3d [true/false]\n",
    "# ap = argparse.ArgumentParser()\n",
    "# ap.add_argument(\"--3d\", required=True,\n",
    "# \thelp=\"Check for type of detection\")\n",
    "# args = vars(ap.parse_args())\n"
   ]
  },
  {
   "cell_type": "code",
   "execution_count": 11,
   "metadata": {},
   "outputs": [],
   "source": [
    "\n",
    "WINDOW = \"Hand Tracking\"\n",
    "PALM_MODEL_PATH = \"models/palm_detection_without_custom_op.tflite\"\n",
    "LANDMARK_MODEL_PATH = \"models/hand_landmark.tflite\"\n",
    "ANCHORS_PATH = \"models/anchors.csv\"\n"
   ]
  },
  {
   "cell_type": "code",
   "execution_count": null,
   "metadata": {},
   "outputs": [],
   "source": [
    "\n",
    "POINT_COLOR = (0, 255, 0)\n",
    "CONNECTION_COLOR = (255, 0, 0)\n",
    "THICKNESS = 2\n",
    "\n",
    "cv2.namedWindow(WINDOW)\n",
    "capture = cv2.VideoCapture(0)\n",
    "\n",
    "if capture.isOpened():\n",
    "    hasFrame, frame = capture.read()\n",
    "else:\n",
    "    hasFrame = False\n",
    "\n",
    "#        8   12  16  20\n",
    "#        |   |   |   |\n",
    "#        7   11  15  19\n",
    "#    4   |   |   |   |\n",
    "#    |   6   10  14  18\n",
    "#    3   |   |   |   |\n",
    "#    |   5---9---13--17\n",
    "#    2    \\         /\n",
    "#     \\    \\       /\n",
    "#      1    \\     /\n",
    "#       \\    \\   /\n",
    "#        ------0-\n",
    "connections = [\n",
    "    (0, 1), (1, 2), (2, 3), (3, 4),\n",
    "    (5, 6), (6, 7), (7, 8),\n",
    "    (9, 10), (10, 11), (11, 12),\n",
    "    (13, 14), (14, 15), (15, 16),\n",
    "    (17, 18), (18, 19), (19, 20),\n",
    "    (0, 5), (5, 9), (9, 13), (13, 17), (0, 17)\n",
    "]\n",
    "\n",
    "hand_3d = True"
   ]
  },
  {
   "cell_type": "code",
   "execution_count": 6,
   "metadata": {},
   "outputs": [],
   "source": [
    "\n",
    "detector = HandTracker(\n",
    "    hand_3d,\n",
    "    PALM_MODEL_PATH,\n",
    "    LANDMARK_MODEL_PATH,\n",
    "    ANCHORS_PATH,\n",
    "    box_shift=0.2,\n",
    "    box_enlarge=1\n",
    ")\n"
   ]
  },
  {
   "cell_type": "code",
   "execution_count": 7,
   "metadata": {},
   "outputs": [
    {
     "name": "stderr",
     "output_type": "stream",
     "text": [
      "/home/praveen/ml/sign_language/hand_tracking-master/src/hand_tracker.py:103: RuntimeWarning: overflow encountered in exp\n",
      "  return 1 / (1 + np.exp(-x) )\n"
     ]
    },
    {
     "name": "stdout",
     "output_type": "stream",
     "text": [
      "No hands found\n",
      "No hands found\n",
      "No hands found\n",
      "No hands found\n",
      "No hands found\n"
     ]
    }
   ],
   "source": [
    "\n",
    "while hasFrame:\n",
    "    image = cv2.cvtColor(frame, cv2.COLOR_BGR2RGB)\n",
    "    points, bbox = detector(image)\n",
    "    if points is not None:\n",
    "        if hand_3d == \"True\":\n",
    "            for point in points:\n",
    "                x, y = point\n",
    "                cv2.circle(frame, (int(x), int(y)), THICKNESS * 2, POINT_COLOR, THICKNESS)\n",
    "            for connection in connections:\n",
    "                x0, y0 = points[connection[0]]\n",
    "                x1, y1 = points[connection[1]]\n",
    "                cv2.line(frame, (int(x0), int(y0)), (int(x1), int(y1)), CONNECTION_COLOR, THICKNESS)\n",
    "        else:\n",
    "            cv2.line(frame, (int(bbox[0][0]), int(bbox[0][1])), (int(bbox[1][0]), int(bbox[1][1])), CONNECTION_COLOR, THICKNESS)\n",
    "            cv2.line(frame, (int(bbox[1][0]), int(bbox[1][1])), (int(bbox[2][0]), int(bbox[2][1])), CONNECTION_COLOR, THICKNESS)\n",
    "            cv2.line(frame, (int(bbox[2][0]), int(bbox[2][1])), (int(bbox[3][0]), int(bbox[3][1])), CONNECTION_COLOR, THICKNESS)\n",
    "            cv2.line(frame, (int(bbox[3][0]), int(bbox[3][1])), (int(bbox[0][0]), int(bbox[0][1])), CONNECTION_COLOR, THICKNESS)\n",
    "    \n",
    "    cv2.imshow(WINDOW, frame)\n",
    "    hasFrame, frame = capture.read()\n",
    "    key = cv2.waitKey(1)\n",
    "    if key == 27:\n",
    "        break\n",
    "\n",
    "capture.release()\n",
    "cv2.destroyAllWindows()\n"
   ]
  },
  {
   "cell_type": "code",
   "execution_count": 8,
   "metadata": {},
   "outputs": [],
   "source": [
    "capture.release()\n",
    "cv2.destroyAllWindows()\n"
   ]
  }
 ],
 "metadata": {
  "kernelspec": {
   "display_name": "Python 3",
   "language": "python",
   "name": "python3"
  },
  "language_info": {
   "codemirror_mode": {
    "name": "ipython",
    "version": 3
   },
   "file_extension": ".py",
   "mimetype": "text/x-python",
   "name": "python",
   "nbconvert_exporter": "python",
   "pygments_lexer": "ipython3",
   "version": "3.6.9"
  }
 },
 "nbformat": 4,
 "nbformat_minor": 2
}
